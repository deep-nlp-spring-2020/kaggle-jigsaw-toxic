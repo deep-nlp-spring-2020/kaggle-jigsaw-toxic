{
 "cells": [
  {
   "cell_type": "markdown",
   "metadata": {},
   "source": [
    "# Merge standard datasets with filtering"
   ]
  },
  {
   "cell_type": "code",
   "execution_count": 1,
   "metadata": {
    "_cell_guid": "b1076dfc-b9ad-4769-8c92-a6c4dae69d19",
    "_uuid": "8f2839f25d086af736a60e9eeb907d3b93b6e0e5"
   },
   "outputs": [],
   "source": [
    "import os, time\n",
    "import pandas\n",
    "import sys"
   ]
  },
  {
   "cell_type": "code",
   "execution_count": 11,
   "metadata": {},
   "outputs": [],
   "source": [
    "DATA_PATH =  \"./data/\"\n",
    "\n",
    "def remove_questionable_labels(df, low=0.3, high=0.5):\n",
    "    df = df.loc[(df['toxic'] < low) | (df['toxic'] > high), :]\n",
    "    df.loc[df['toxic'] < low, 'toxic'] = 0.0\n",
    "    df.loc[df['toxic'] > high, 'toxic'] = 1.0\n",
    "    return df\n",
    "\n",
    "wiki_toxic_comment_data = \"jigsaw-toxic-comment-train.csv\"\n",
    "wiki_toxic_comment_bias_data = \"jigsaw-unintended-bias-train.csv\"\n",
    "\n",
    "wiki_toxic_comment_train = pandas.read_csv(os.path.join(\n",
    "    DATA_PATH, wiki_toxic_comment_data))\n",
    "\n",
    "wiki_toxic_comment_train_bias = pandas.read_csv(os.path.join(\n",
    "    DATA_PATH, wiki_toxic_comment_bias_data))\n",
    "df_merged = remove_questionable_labels(wiki_toxic_comment_train_bias[['comment_text','toxic']], 0.3, 0.5)\n",
    "df_merged = wiki_toxic_comment_train[['comment_text','toxic']].append(df_merged.sample(frac=1).head(200000))\n",
    "df_merged.to_csv('jigsaw_train_merged_shortest.csv', index = None)"
   ]
  },
  {
   "cell_type": "code",
   "execution_count": null,
   "metadata": {},
   "outputs": [],
   "source": []
  }
 ],
 "metadata": {
  "kernelspec": {
   "display_name": "Python 3",
   "language": "python",
   "name": "python3"
  },
  "language_info": {
   "codemirror_mode": {
    "name": "ipython",
    "version": 3
   },
   "file_extension": ".py",
   "mimetype": "text/x-python",
   "name": "python",
   "nbconvert_exporter": "python",
   "pygments_lexer": "ipython3",
   "version": "3.6.9"
  }
 },
 "nbformat": 4,
 "nbformat_minor": 4
}
