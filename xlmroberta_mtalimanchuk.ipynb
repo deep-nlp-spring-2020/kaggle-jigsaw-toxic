{
  "nbformat": 4,
  "nbformat_minor": 0,
  "metadata": {
    "kernelspec": {
      "display_name": "Python 3",
      "language": "python",
      "name": "python3"
    },
    "language_info": {
      "codemirror_mode": {
        "name": "ipython",
        "version": 3
      },
      "file_extension": ".py",
      "mimetype": "text/x-python",
      "name": "python",
      "nbconvert_exporter": "python",
      "pygments_lexer": "ipython3",
      "version": "3.6.9"
    },
    "colab": {
      "name": "xlmroberta_baseline_mtalimanchuk.ipynb",
      "provenance": [],
      "collapsed_sections": []
    },
    "accelerator": "GPU"
  },
  "cells": [
    {
      "cell_type": "markdown",
      "metadata": {
        "id": "bszMWxmI23oZ",
        "colab_type": "text"
      },
      "source": [
        "# Imports"
      ]
    },
    {
      "cell_type": "code",
      "metadata": {
        "_cell_guid": "b1076dfc-b9ad-4769-8c92-a6c4dae69d19",
        "_uuid": "8f2839f25d086af736a60e9eeb907d3b93b6e0e5",
        "id": "sIlYMZYd23oa",
        "colab_type": "code",
        "colab": {
          "base_uri": "https://localhost:8080/",
          "height": 367
        },
        "outputId": "ce4ba788-8231-41c3-ab8c-74221808ea6b"
      },
      "source": [
        "!pip install transformers\n",
        "\n",
        "import os\n",
        "import random\n",
        "import time\n",
        "\n",
        "import numpy as np\n",
        "import pandas as pd\n",
        "from sklearn.metrics import roc_auc_score\n",
        "from transformers import XLMRobertaModel, XLMRobertaTokenizer\n",
        "import torch\n",
        "import torch.nn as nn\n",
        "from torch.utils.data import Dataset, DataLoader\n",
        "import torch.optim as optim"
      ],
      "execution_count": 1,
      "outputs": [
        {
          "output_type": "stream",
          "text": [
            "Requirement already satisfied: transformers in /usr/local/lib/python3.6/dist-packages (2.11.0)\n",
            "Requirement already satisfied: filelock in /usr/local/lib/python3.6/dist-packages (from transformers) (3.0.12)\n",
            "Requirement already satisfied: dataclasses; python_version < \"3.7\" in /usr/local/lib/python3.6/dist-packages (from transformers) (0.7)\n",
            "Requirement already satisfied: tqdm>=4.27 in /usr/local/lib/python3.6/dist-packages (from transformers) (4.41.1)\n",
            "Requirement already satisfied: sacremoses in /usr/local/lib/python3.6/dist-packages (from transformers) (0.0.43)\n",
            "Requirement already satisfied: tokenizers==0.7.0 in /usr/local/lib/python3.6/dist-packages (from transformers) (0.7.0)\n",
            "Requirement already satisfied: regex!=2019.12.17 in /usr/local/lib/python3.6/dist-packages (from transformers) (2019.12.20)\n",
            "Requirement already satisfied: sentencepiece in /usr/local/lib/python3.6/dist-packages (from transformers) (0.1.91)\n",
            "Requirement already satisfied: requests in /usr/local/lib/python3.6/dist-packages (from transformers) (2.23.0)\n",
            "Requirement already satisfied: packaging in /usr/local/lib/python3.6/dist-packages (from transformers) (20.4)\n",
            "Requirement already satisfied: numpy in /usr/local/lib/python3.6/dist-packages (from transformers) (1.18.5)\n",
            "Requirement already satisfied: six in /usr/local/lib/python3.6/dist-packages (from sacremoses->transformers) (1.12.0)\n",
            "Requirement already satisfied: click in /usr/local/lib/python3.6/dist-packages (from sacremoses->transformers) (7.1.2)\n",
            "Requirement already satisfied: joblib in /usr/local/lib/python3.6/dist-packages (from sacremoses->transformers) (0.15.1)\n",
            "Requirement already satisfied: idna<3,>=2.5 in /usr/local/lib/python3.6/dist-packages (from requests->transformers) (2.9)\n",
            "Requirement already satisfied: urllib3!=1.25.0,!=1.25.1,<1.26,>=1.21.1 in /usr/local/lib/python3.6/dist-packages (from requests->transformers) (1.24.3)\n",
            "Requirement already satisfied: certifi>=2017.4.17 in /usr/local/lib/python3.6/dist-packages (from requests->transformers) (2020.4.5.2)\n",
            "Requirement already satisfied: chardet<4,>=3.0.2 in /usr/local/lib/python3.6/dist-packages (from requests->transformers) (3.0.4)\n",
            "Requirement already satisfied: pyparsing>=2.0.2 in /usr/local/lib/python3.6/dist-packages (from packaging->transformers) (2.4.7)\n"
          ],
          "name": "stdout"
        }
      ]
    },
    {
      "cell_type": "markdown",
      "metadata": {
        "id": "gZeG-o9Q23oj",
        "colab_type": "text"
      },
      "source": [
        "# Set global variables"
      ]
    },
    {
      "cell_type": "code",
      "metadata": {
        "_cell_guid": "79c7e3d0-c299-4dcb-8224-4455121ee9b0",
        "_uuid": "d629ff2d2480ee46fbb7e2d37f6b5fab8052498a",
        "id": "LyAzUSzn23ok",
        "colab_type": "code",
        "colab": {}
      },
      "source": [
        "SEED = 42\n",
        "MAX_LENGTH = 100\n",
        "DEVICE = \"cuda\"\n",
        "\n",
        "CHECKPOINT_PATH = 'best_model.dat'\n",
        "DATA_PATH =  \"jigsaw\"\n",
        "TRAIN_FILE = \"jigsaw-toxic-comment-train.csv\"\n",
        "VALID_FILE = \"validation.csv\"\n",
        "TEST_FILE = \"test.csv\"\n",
        "SAMPLE_SUBMISSION_FILE = \"sample_submission.csv\"\n",
        "SUBMISSION_FILE = \"submission.csv\"\n",
        "\n",
        "SENTENCE_LABEL = 'comment_text'\n",
        "TARGET_LABEL = 'toxic'\n",
        "TEST_LABEL = 'content'"
      ],
      "execution_count": 2,
      "outputs": []
    },
    {
      "cell_type": "markdown",
      "metadata": {
        "id": "w6Hg1o7L23or",
        "colab_type": "text"
      },
      "source": [
        "# Fix seed"
      ]
    },
    {
      "cell_type": "code",
      "metadata": {
        "id": "DLdSdRhf23os",
        "colab_type": "code",
        "colab": {}
      },
      "source": [
        "def seed_everything(seed):\n",
        "    random.seed(seed)\n",
        "    os.environ['PYTHONHASHSEED'] = str(seed)\n",
        "    np.random.seed(seed)\n",
        "    torch.manual_seed(seed)\n",
        "    torch.cuda.manual_seed(seed)\n",
        "    torch.backends.cudnn.deterministic = True\n",
        "    torch.backends.cudnn.benchmark = True\n",
        "\n",
        "seed_everything(SEED)"
      ],
      "execution_count": 3,
      "outputs": []
    },
    {
      "cell_type": "markdown",
      "metadata": {
        "id": "OHgT_h6v23oy",
        "colab_type": "text"
      },
      "source": [
        "# Examples\n",
        "\n",
        "Load and look at examples from [our first competition](https://www.kaggle.com/c/jigsaw-toxic-comment-classification-challenge/). These are comments from Wikipedia with a variety of annotations (toxic, obscene, threat, etc)."
      ]
    },
    {
      "cell_type": "code",
      "metadata": {
        "id": "1PkjUydz23oz",
        "colab_type": "code",
        "colab": {}
      },
      "source": [
        "# train = pd.read_csv(os.path.join(DATA_PATH, TRAIN_FILE))\n",
        "# valid = pd.read_csv(os.path.join(DATA_PATH, VALID_FILE))\n",
        "# train.head()"
      ],
      "execution_count": 4,
      "outputs": []
    },
    {
      "cell_type": "markdown",
      "metadata": {
        "id": "LED9tTXy23o6",
        "colab_type": "text"
      },
      "source": [
        "# Dataset Loader"
      ]
    },
    {
      "cell_type": "code",
      "metadata": {
        "id": "WQn0LvjG23o7",
        "colab_type": "code",
        "colab": {}
      },
      "source": [
        "class ToxicDataset(Dataset):\n",
        "\n",
        "    def __init__(self, filename, maxlen, tokenizer_cls, tokenizer_name):\n",
        "        self.df = pd.read_csv(filename)\n",
        "        self.tokenizer = tokenizer_cls.from_pretrained(tokenizer_name)\n",
        "        self.maxlen = maxlen\n",
        "\n",
        "    def __len__(self):\n",
        "        return len(self.df)\n",
        "\n",
        "    def __getitem__(self, index):\n",
        "        #Selecting the sentence and label at the specified index in the data frame\n",
        "        sentence = self.df.loc[index, SENTENCE_LABEL]\n",
        "        label = self.df.loc[index, TARGET_LABEL]\n",
        "        #Preprocessing the text to be suitable for BERT\n",
        "        tokens = self.tokenizer.tokenize(sentence) #Tokenize the sentence\n",
        "        tokens = ['[CLS]'] + tokens + ['[SEP]'] #Insering the CLS and SEP token in the beginning and end of the sentence\n",
        "        if len(tokens) < self.maxlen:\n",
        "            tokens = tokens + ['[PAD]' for _ in range(self.maxlen - len(tokens))] #Padding sentences\n",
        "        else:\n",
        "            tokens = tokens[:self.maxlen-1] + ['[SEP]'] #Prunning the list to be of specified max length\n",
        "\n",
        "        tokens_ids = self.tokenizer.convert_tokens_to_ids(tokens) #Obtaining the indices of the tokens in the BERT Vocabulary\n",
        "        tokens_ids_tensor = torch.tensor(tokens_ids) #Converting the list to a pytorch tensor\n",
        "        #Obtaining the attention mask i.e a tensor containing 1s for no padded tokens and 0s for padded ones\n",
        "        attn_mask = (tokens_ids_tensor != 0).long()\n",
        "\n",
        "        return tokens_ids_tensor, attn_mask, label\n",
        "\n",
        "\n",
        "class ToxicTestDataset(Dataset):\n",
        "\n",
        "    def __init__(self, filename, maxlen, tokenizer_cls, tokenizer_name):\n",
        "        self.df = pd.read_csv(filename)\n",
        "        self.tokenizer = tokenizer_cls.from_pretrained(tokenizer_name)\n",
        "        self.maxlen = maxlen\n",
        "\n",
        "    def __len__(self):\n",
        "        return len(self.df)\n",
        "\n",
        "    def __getitem__(self, index):\n",
        "        #Selecting the sentence and label at the specified index in the data frame\n",
        "        sentence = self.df.loc[index, TEST_LABEL]\n",
        "        #Preprocessing the text to be suitable for BERT\n",
        "        tokens = self.tokenizer.tokenize(sentence) #Tokenize the sentence\n",
        "        tokens = ['[CLS]'] + tokens + ['[SEP]'] #Insering the CLS and SEP token in the beginning and end of the sentence\n",
        "        if len(tokens) < self.maxlen:\n",
        "            tokens = tokens + ['[PAD]' for _ in range(self.maxlen - len(tokens))] #Padding sentences\n",
        "        else:\n",
        "            tokens = tokens[:self.maxlen-1] + ['[SEP]'] #Prunning the list to be of specified max length\n",
        "\n",
        "        tokens_ids = self.tokenizer.convert_tokens_to_ids(tokens) #Obtaining the indices of the tokens in the BERT Vocabulary\n",
        "        tokens_ids_tensor = torch.tensor(tokens_ids) #Converting the list to a pytorch tensor\n",
        "        #Obtaining the attention mask i.e a tensor containing 1s for no padded tokens and 0s for padded ones\n",
        "        attn_mask = (tokens_ids_tensor != 0).long()\n",
        "        return tokens_ids_tensor, attn_mask"
      ],
      "execution_count": 5,
      "outputs": []
    },
    {
      "cell_type": "markdown",
      "metadata": {
        "id": "8g8w1w1E23pB",
        "colab_type": "text"
      },
      "source": [
        "# Model with Bert"
      ]
    },
    {
      "cell_type": "code",
      "metadata": {
        "id": "0eM04pRd23pC",
        "colab_type": "code",
        "colab": {}
      },
      "source": [
        "class ToxicClassifier(nn.Module):\n",
        "\n",
        "    def __init__(self, model_cls, model_name, linear_shape, freeze_bert=True):\n",
        "        super().__init__()\n",
        "        self.transformer_layer = model_cls.from_pretrained(model_name)\n",
        "\n",
        "        if freeze_bert:\n",
        "            for p in self.transformer_layer.parameters():\n",
        "                p.requires_grad = False\n",
        "        \n",
        "        self.cls_layer = nn.Linear(*linear_shape)\n",
        "\n",
        "    def forward(self, seq, attn_masks):\n",
        "        '''\n",
        "        Inputs:\n",
        "            -seq : Tensor of shape [B, T] containing token ids of sequences\n",
        "            -attn_masks : Tensor of shape [B, T] containing attention masks to be used to avoid contibution of PAD tokens\n",
        "        '''\n",
        "\n",
        "        #Feeding the input to BERT model to obtain contextualized representations\n",
        "        cont_reps, _ = self.transformer_layer(seq, attention_mask = attn_masks)\n",
        "\n",
        "        #Obtaining the representation of [CLS] head\n",
        "        cls_rep = cont_reps[:, 0]\n",
        "\n",
        "        #Feeding cls_rep to the classifier layer\n",
        "        logits = self.cls_layer(cls_rep)\n",
        "\n",
        "        return logits\n"
      ],
      "execution_count": 6,
      "outputs": []
    },
    {
      "cell_type": "markdown",
      "metadata": {
        "id": "btGK8nOL23pI",
        "colab_type": "text"
      },
      "source": [
        "# Training"
      ]
    },
    {
      "cell_type": "code",
      "metadata": {
        "id": "v-VznBC423pJ",
        "colab_type": "code",
        "colab": {}
      },
      "source": [
        "def tensor2numpy(tensor):\n",
        "    return tensor.squeeze().cpu().detach().numpy()\n",
        "\n",
        "def get_roc_auc_from_logits(logits, labels):\n",
        "    probs = torch.sigmoid(logits.unsqueeze(-1))\n",
        "\n",
        "    try:\n",
        "      roc_auc = roc_auc_score(tensor2numpy(labels), tensor2numpy(probs))\n",
        "    except:\n",
        "      roc_auc = 0\n",
        "\n",
        "    return roc_auc\n",
        "\n",
        "\n",
        "def get_acc_from_logits(logits, labels):\n",
        "    probs = torch.sigmoid(logits.unsqueeze(-1))\n",
        "\n",
        "    soft_probs = (probs > 0.5).long()\n",
        "    acc = (soft_probs.squeeze() == labels).float().mean()\n",
        "\n",
        "    return acc\n",
        "\n",
        "\n",
        "def evaluate(net, criterion, dataloader):\n",
        "    net.eval()\n",
        "\n",
        "    mean_roc_auc = mean_acc = mean_loss = 0\n",
        "    count = 0\n",
        "\n",
        "    with torch.no_grad():\n",
        "        for seq, attn_masks, labels in dataloader:\n",
        "            seq, attn_masks, labels = seq.cuda(), attn_masks.cuda(), labels.cuda()\n",
        "            logits = net(seq, attn_masks)\n",
        "            mean_roc_auc += get_roc_auc_from_logits(logits, labels)\n",
        "            mean_acc += get_acc_from_logits(logits, labels)\n",
        "            mean_loss += criterion(logits.squeeze(-1), labels.float()).item()\n",
        "            count += 1\n",
        "\n",
        "    return (\n",
        "        mean_roc_auc / count,\n",
        "        mean_acc / count,\n",
        "        mean_loss / count\n",
        "    )\n",
        "\n",
        "\n",
        "def train(net, criterion, opti, train_loader, val_loader, max_eps, print_every):\n",
        "    best_roc_auc = 0\n",
        "\n",
        "    for ep in range(max_eps):\n",
        "        \n",
        "        for it, (seq, attn_masks, labels) in enumerate(train_loader):\n",
        "            #Clear gradients\n",
        "            opti.zero_grad()  \n",
        "            #Converting these to cuda tensors\n",
        "            seq, attn_masks, labels = seq.cuda(), attn_masks.cuda(), labels.cuda()\n",
        "\n",
        "            #Obtaining the logits from the model\n",
        "            logits = net(seq, attn_masks)\n",
        "\n",
        "            #Computing loss\n",
        "            loss = criterion(logits.squeeze(-1), labels.float())\n",
        "\n",
        "            #Backpropagating the gradients\n",
        "            loss.backward()\n",
        "\n",
        "            #Optimization step\n",
        "            opti.step()\n",
        "\n",
        "            if (it + 1) % print_every == 0:\n",
        "                roc_auc = get_roc_auc_from_logits(logits, labels)\n",
        "                acc = get_acc_from_logits(logits, labels)\n",
        "                print(\n",
        "                    f\"Iteration {it+1} of epoch {ep+1} complete. \"\n",
        "                    f\"Loss : {loss.item()} ROC AUC : {roc_auc} Accuracy : {acc}\"\n",
        "                )\n",
        "\n",
        "        val_roc_auc, val_acc, val_loss = evaluate(net, criterion, val_loader)\n",
        "        print(\n",
        "            f\"Epoch {ep} complete!\"\n",
        "            f\"Validation ROC AUC : {val_roc_auc}, \"\n",
        "            f\"Validation accuracy : {val_acc}, \"\n",
        "            f\"Validation Loss : {val_loss}\"\n",
        "        )\n",
        "\n",
        "        if val_roc_auc > best_roc_auc:\n",
        "            print(\n",
        "                f\"Best validation ROC AUC improved from {best_roc_auc} to {val_roc_auc}, saving model...\"\n",
        "            )\n",
        "            best_roc_auc = val_roc_auc\n",
        "            torch.save(net.state_dict(), CHECKPOINT_PATH)\n",
        "\n",
        "        yield ep, val_roc_auc, val_acc, val_loss\n",
        "\n",
        "\n",
        "def predict_submit(net, test_loader):\n",
        "    net.eval()\n",
        "\n",
        "    with torch.no_grad():\n",
        "        result = torch.tensor([])\n",
        "        for seq, attn_masks in test_loader:\n",
        "            seq, attn_masks = seq.cuda(), attn_masks.cuda()\n",
        "            logits = net(seq, attn_masks)\n",
        "            probs = torch.sigmoid(logits.unsqueeze(-1)).squeeze().cpu().detach()\n",
        "            result = torch.cat((result, probs))\n",
        "\n",
        "    return result\n"
      ],
      "execution_count": 7,
      "outputs": []
    },
    {
      "cell_type": "code",
      "metadata": {
        "id": "sp5h9vFU23pM",
        "colab_type": "code",
        "colab": {
          "base_uri": "https://localhost:8080/",
          "height": 298
        },
        "outputId": "fea95241-804d-4d73-d99a-97b6c022cdf9"
      },
      "source": [
        "MODEL = XLMRobertaModel\n",
        "TOKENIZER = XLMRobertaTokenizer\n",
        "TOKENIZER_NAME = MODEL_NAME = \"xlm-roberta-large\"\n",
        "LINEAR_LAYER_SHAPE = (1024, 1)  # (1024, 1) for XLMRoberta; (768, 1) for Bert\n",
        "BATCH_SIZE = 32\n",
        "LR = 1e-5\n",
        "WEIGHT_DECAY = 0.01\n",
        "EPOCHS = 15\n",
        "PRINT_EVERY = 100\n",
        "DATALOADER_WORKERS = 5\n",
        "\n",
        "#Creating instances of training and validation set\n",
        "train_set = ToxicDataset(os.path.join(DATA_PATH, TRAIN_FILE), MAX_LENGTH, TOKENIZER, TOKENIZER_NAME)\n",
        "val_set = ToxicDataset(os.path.join(DATA_PATH, VALID_FILE), MAX_LENGTH, TOKENIZER, TOKENIZER_NAME)\n",
        "test_set = ToxicTestDataset(os.path.join(DATA_PATH, TEST_FILE), MAX_LENGTH, TOKENIZER, TOKENIZER_NAME)\n",
        "\n",
        "#Creating intsances of training and validation dataloaders\n",
        "train_loader = DataLoader(train_set, batch_size=BATCH_SIZE, num_workers=DATALOADER_WORKERS)\n",
        "val_loader = DataLoader(val_set, batch_size=BATCH_SIZE, num_workers=DATALOADER_WORKERS)\n",
        "test_loader = DataLoader(test_set, batch_size=BATCH_SIZE, num_workers=DATALOADER_WORKERS)\n",
        "\n",
        "net = ToxicClassifier(MODEL, MODEL_NAME, LINEAR_LAYER_SHAPE, freeze_bert=False)\n",
        "net.cuda()\n",
        "criterion = nn.BCEWithLogitsLoss()\n",
        "opti = optim.AdamW(net.parameters(), lr=LR, weight_decay=WEIGHT_DECAY)\n",
        "\n",
        "from IPython.display import clear_output\n",
        "import matplotlib.pyplot as plt\n",
        "\n",
        "epochs_plot = []\n",
        "losses_plot = []\n",
        "roc_aucs_plot = []\n",
        "accs_plot = []\n",
        "\n",
        "try:\n",
        "  print(\"Started training...\\n\")\n",
        "  for epoch_n, roc_auc, acc, loss in train(\n",
        "      net, criterion, opti, train_loader, val_loader, EPOCHS, PRINT_EVERY\n",
        "  ):\n",
        "    clear_output()\n",
        "\n",
        "    epochs_plot.append(epoch_n + 1)\n",
        "    roc_aucs_plot.append(roc_auc)\n",
        "    accs_plot.append(acc)\n",
        "    losses_plot.append(loss)\n",
        "\n",
        "    plt.plot(epochs_plot, roc_aucs_plot, marker=\".\", label=\"ROC AUC\")\n",
        "    plt.plot(epochs_plot, accs_plot, marker=\".\", label=\"Accuracy\")\n",
        "    plt.plot(epochs_plot, losses_plot, marker=\".\", label=\"Loss\")\n",
        "    plt.legend(loc=\"lower left\")\n",
        "    plt.title(f\"Max ROC AUC = {max(roc_aucs_plot)}\")\n",
        "    plt.show()\n",
        "\n",
        "except KeyboardInterrupt:\n",
        "  print(\"Training interrupted\")\n"
      ],
      "execution_count": 10,
      "outputs": [
        {
          "output_type": "display_data",
          "data": {
            "image/png": "[encoded data removed]",
            "text/plain": [
              "<Figure size 432x288 with 1 Axes>"
            ]
          },
          "metadata": {
            "tags": [],
            "needs_background": "light"
          }
        },
        {
          "output_type": "stream",
          "text": [
            "Training interrupted\n"
          ],
          "name": "stdout"
        }
      ]
    },
    {
      "cell_type": "code",
      "metadata": {
        "id": "TbCor6O9KmmP",
        "colab_type": "code",
        "colab": {
          "base_uri": "https://localhost:8080/",
          "height": 34
        },
        "outputId": "101a2d1d-47f8-4abe-afb7-c9e3afaee15e"
      },
      "source": [
        "checkpoint = torch.load(CHECKPOINT_PATH, map_location=torch.device('cpu'))\n",
        "net.load_state_dict(checkpoint)\n",
        "\n",
        "checkpoint = None\n",
        "del checkpoint\n",
        "predicted = predict_submit(net, test_loader).numpy()\n",
        "subm = pd.read_csv(os.path.join(DATA_PATH, SAMPLE_SUBMISSION_FILE))\n",
        "subm['toxic'] = predicted\n",
        "subm.to_csv(SUBMISSION_FILE, index = None)\n",
        "print(f\"Saved to {SUBMISSION_FILE}\")\n"
      ],
      "execution_count": 11,
      "outputs": [
        {
          "output_type": "stream",
          "text": [
            "Saved to submission.csv\n"
          ],
          "name": "stdout"
        }
      ]
    },
    {
      "cell_type": "code",
      "metadata": {
        "id": "wZP-NFxiTKLW",
        "colab_type": "code",
        "colab": {}
      },
      "source": [
        ""
      ],
      "execution_count": null,
      "outputs": []
    }
  ]
}